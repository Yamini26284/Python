{
 "cells": [
  {
   "cell_type": "markdown",
   "id": "39280843",
   "metadata": {},
   "source": [
    "<div style=\"border: 2px solid #336699; padding: 15px; border-radius: 8px; background-color: #e6f0ff;\">\n",
    "\n",
    "**Syntax for print() is:**\n",
    "\n",
    "print(*objects, sep=' ', end='\\n', file=sys.stdout, flush=False)\n",
    "\n",
    "1. objects: These are the items you want to print (can be multiple, separated by commas).\n",
    "\n",
    "2. sep=' ': (As we discussed earlier) This defines what separates the *objects. Default is a single space.\n",
    "\n",
    "3.end='\\n': This is the one we're focusing on. Its default value is '\\n', the newline character\n",
    "\n",
    "4. file=sys.stdout (Where the Output Goes)\n",
    "What it is: The file parameter specifies where the print() function's output should be sent.\n",
    "\n",
    "5. flush=False (Controlling When Output Appears)\n",
    "What it is: flush controls whether the output buffer is forced to be \"flushed\" immediately after print() executes.\n",
    "\n",
    "Default value: By default, flush is set to False. This means Python's output operations are usually buffered.\n",
    "\n",
    "Buffering means that Python collects a certain amount of output (or waits for a newline, or waits for the program to end) before actually sending it to the destination (like the console or a file). This is done for efficiency, as writing small chunks of data frequently can be slower.</div>\n"
   ]
  },
  {
   "cell_type": "markdown",
   "id": "fddc7f2e",
   "metadata": {},
   "source": [
    "**The print() Function and Its Default end Behavior**\n",
    "\n",
    "When you use the print() function in Python, its primary job is to display information to your console or terminal. By default, after print() has displayed all the arguments you gave it, it automatically adds a newline character (\\n) at the very end.\n",
    "\n",
    "This means that after each print() statement finishes, the cursor in your terminal moves to the beginning of the next line, ready for the next output.\n",
    "\n",
    "The end parameter is one of the optional keyword arguments you can pass to the print() function. It allows you to specify what character(s) should be printed after all the other arguments have been displayed."
   ]
  },
  {
   "cell_type": "code",
   "execution_count": 11,
   "id": "0a863b18",
   "metadata": {},
   "outputs": [
    {
     "name": "stdout",
     "output_type": "stream",
     "text": [
      "Hey there!\n",
      "7\n",
      "8.9\n",
      "True\n"
     ]
    }
   ],
   "source": [
    "print(\"Hey there!\")\n",
    "print(7)\n",
    "print(8.9)\n",
    "print(True)\n",
    "# the idea is that, all the data types can be printed by giving them as an input to print function.\n",
    "# text wrapped in a inverted comma, is a sign to python that the given input to the print function is a string\n",
    " \n"
   ]
  },
  {
   "cell_type": "code",
   "execution_count": 16,
   "id": "26b2030f",
   "metadata": {},
   "outputs": [
    {
     "name": "stdout",
     "output_type": "stream",
     "text": [
      "Counting down...\n",
      "3.2.1.Go!\n"
     ]
    }
   ],
   "source": [
    "#If you want subsequent print() calls to continue on the same line, you can set end to an empty string:\n",
    "print(\"Counting down...\")\n",
    "print(3, end='.') \n",
    "print(2, end='.') \n",
    "print(1, end='.') \n",
    "print(\"Go!\")  "
   ]
  },
  {
   "cell_type": "code",
   "execution_count": 18,
   "id": "1e8f569b",
   "metadata": {},
   "outputs": [
    {
     "name": "stdout",
     "output_type": "stream",
     "text": [
      "hello! Dr\n"
     ]
    }
   ],
   "source": [
    "print(\"hello\",end=\"! \")\n",
    "print(\"Dr\")"
   ]
  },
  {
   "cell_type": "markdown",
   "id": "9b95edaa",
   "metadata": {},
   "source": [
    "**Print function with Multiple arguments**\n",
    "\n",
    "By default, when you use the print() function in Python with multiple arguments separated by commas, it will insert a single space between each of those arguments in the output.\n",
    "\n",
    "This behavior is controlled by the sep (separator) parameter of the print() function. By default, sep is set to a single space character (' ').\n"
   ]
  },
  {
   "cell_type": "code",
   "execution_count": 15,
   "id": "659d75f9",
   "metadata": {},
   "outputs": [
    {
     "name": "stdout",
     "output_type": "stream",
     "text": [
      "hello 8 23.897 True\n",
      "2025-07-13\n",
      "apple, banana, cherry\n"
     ]
    }
   ],
   "source": [
    "print(\"hello\",8,23.897,True)\n",
    "print(\"2025\", \"07\", \"13\", sep=\"-\")\n",
    "print(\"apple\",\"banana\", \"cherry\", sep=\", \")"
   ]
  },
  {
   "cell_type": "markdown",
   "id": "5c664e29",
   "metadata": {},
   "source": [
    "### Data Types"
   ]
  },
  {
   "cell_type": "code",
   "execution_count": 37,
   "id": "6fb9e105",
   "metadata": {},
   "outputs": [
    {
     "name": "stdout",
     "output_type": "stream",
     "text": [
      "8\n",
      "inf 1e+308\n",
      "<class 'float'>\n",
      "<class 'float'>\n"
     ]
    }
   ],
   "source": [
    "# Integers\n",
    "# Python by default handles integer data types\n",
    "print(8)\n",
    "# floating-point number in scientific notation.\n",
    "a = (1e309) # Python can't handle this so outputs infinite\n",
    "b= (1e308) # 1 * 10 ^308 - python can hundle this number of integers\n",
    "print(a,b)\n",
    "print(type(a))\n",
    "print(type(b))"
   ]
  },
  {
   "cell_type": "code",
   "execution_count": 38,
   "id": "543c3fcc",
   "metadata": {},
   "outputs": [
    {
     "name": "stdout",
     "output_type": "stream",
     "text": [
      "8.56\n",
      "1e+208\n"
     ]
    }
   ],
   "source": [
    "# Float/Decimals\n",
    "print(8.56)\n",
    "print(1e208)\n"
   ]
  },
  {
   "cell_type": "code",
   "execution_count": 39,
   "id": "7179c7eb",
   "metadata": {},
   "outputs": [
    {
     "name": "stdout",
     "output_type": "stream",
     "text": [
      "True\n",
      "False\n"
     ]
    }
   ],
   "source": [
    "#Boolean - not wrapped in inverted commas\n",
    "print(True)\n",
    "print(False)"
   ]
  },
  {
   "cell_type": "markdown",
   "id": "b25d1df0",
   "metadata": {},
   "source": [
    "In Python, a single character is simply treated as a string of length one, There is no char data type in Python\n",
    "\n",
    "What does this mean in practice?\n",
    "No char keyword: You won't find a char keyword to declare a single character variable.\n",
    "\n",
    "Strings are the foundation: All textual data, whether it's a single letter, a word, a sentence, or an entire book, is represented by the str (string) data type.\n",
    "\n",
    "Length is the differentiator: The only difference between a \"character\" and a \"string\" in Python is the number of characters it contains."
   ]
  },
  {
   "cell_type": "code",
   "execution_count": 1,
   "id": "ad6aa575",
   "metadata": {},
   "outputs": [
    {
     "name": "stdout",
     "output_type": "stream",
     "text": [
      "Dope\n"
     ]
    }
   ],
   "source": [
    "# Strings \n",
    "print(\"Dope\")"
   ]
  },
  {
   "cell_type": "code",
   "execution_count": 2,
   "id": "31201fdb",
   "metadata": {},
   "outputs": [
    {
     "name": "stdout",
     "output_type": "stream",
     "text": [
      "(5+6j)\n"
     ]
    }
   ],
   "source": [
    "#complex number\n",
    "print(5+6j)"
   ]
  },
  {
   "cell_type": "code",
   "execution_count": 6,
   "id": "30c12405",
   "metadata": {},
   "outputs": [
    {
     "name": "stdout",
     "output_type": "stream",
     "text": [
      "[2, 4, 6, 8, 0]\n",
      "(1, 2, 3, 4, 5)\n",
      "{1, 3, 4, 6}\n",
      "{'name': 'yamini', 'goal': 'surviving'}\n"
     ]
    }
   ],
   "source": [
    "# List\n",
    "print([2,4,6,8,0])\n",
    "\n",
    "# Tuple\n",
    "print((1,2,3,4,5))\n",
    "\n",
    "#sets\n",
    "print({4,3,6,1})\n",
    "\n",
    "#Dictionary\n",
    "print({'name':'yamini', 'goal':'surviving'})"
   ]
  },
  {
   "cell_type": "markdown",
   "id": "9f294936",
   "metadata": {},
   "source": [
    "<div style=\"border: 2px solid #336699; padding: 15px; border-radius: 8px; background-color: #e6f0ff;\">\n",
    "Python's data types categorize the kind of value a variable holds, and variables are dynamically typed, meaning Python infers their type upon assignment.\n",
    "\n",
    "**I. Numeric Types**\n",
    "These represent numbers:\n",
    "1.  **`int`**: Whole numbers with arbitrary precision.\n",
    "2.  **`float`**: Numbers with decimal points or exponents, having limited precision.\n",
    "3.  **`complex`**: Numbers with a real and an imaginary part.\n",
    "\n",
    "**II. Sequence Types**\n",
    "These are ordered collections of items, accessible by index:\n",
    "1.  **`str` (Strings)**: Immutable sequences of Unicode characters, where a single character is a string of length one.\n",
    "2.  **`list` (Lists)**: Mutable, ordered collections of heterogeneous items, defined by square brackets.\n",
    "3.  **`tuple` (Tuples)**: Immutable, ordered collections of heterogeneous items, defined by parentheses.\n",
    "4.  **`range`**: Immutable sequences of numbers, efficiently generated for looping.\n",
    "\n",
    "**III. Mapping Type**\n",
    "1.  **`dict` (Dictionaries)**: Mutable collections of unique key-value pairs, providing efficient lookups.\n",
    "\n",
    "**IV. Set Types**\n",
    "These are unordered collections of unique items:\n",
    "1.  **`set`**: Mutable, unordered collections of unique elements, useful for membership tests and mathematical set operations.\n",
    "2.  **`frozenset`**: An immutable version of a set.\n",
    "\n",
    "**V. Boolean Type**\n",
    "1.  **`bool`**: Represents truth values, either `True` or `False`, used for logical operations.\n",
    "\n",
    "**VI. None Type**\n",
    "1.  **`NoneType` (`None`)**: Signifies the absence of a value or a null value.\n",
    "\n",
    "**VII. Binary Types**\n",
    "These handle raw binary data:\n",
    "1.  **`bytes`**: Immutable sequences of bytes.\n",
    "2.  **`bytearray`**: Mutable sequences of bytes.\n",
    "3.  **`memoryview`**: Provides direct access to an object's internal data.\n",
    "\n",
    "A key distinction is **mutability**: types like `list`, `dict`, and `set` can be changed after creation, while `int`, `float`, `str`, and `tuple` are immutable.</div>"
   ]
  },
  {
   "cell_type": "markdown",
   "id": "ffab0bf9",
   "metadata": {},
   "source": [
    "###**Variables** - a variable is essentially a named storage location in a computer's memory.\n",
    "\n",
    "They give you a way to store, label, and retrieve data that your program needs to work with, making your code dynamic and capable of processing information.\n"
   ]
  },
  {
   "cell_type": "markdown",
   "id": "9e051ab7",
   "metadata": {},
   "source": [
    "# Dynamic typing vs Static typing\n",
    "\n",
    "Here are the definitions for dynamic typing and static typing in programming:\n",
    "\n",
    "**Dynamic Typing:**\n",
    "\n",
    "In dynamic typing, the data type of a variable is determined and checked **at runtime** (during the program's execution). <u>You do not need to explicitly declare the type of a variable when you create it.</u> Furthermore, a variable's type can change throughout the program's execution if it is reassigned a value of a different type. Languages like Python, JavaScript, and Ruby are dynamically typed.\n",
    "\n",
    "**Static Typing:**\n",
    "\n",
    "In static typing, the data type of a variable is determined and checked **at compile time** (before the program runs). <u>This typically means that you must explicitly declare the type of each variable when you create it,</u> and that variable can only ever hold values of that specific type throughout its lifetime. Type-related errors are caught early in the development process by the compiler. Languages like Java, C++, and C# are statically typed.\n",
    "\n",
    "**Dynamic Binding**\n",
    "\n",
    "The type of a variable is determined at runtime (when the program is executing), not at compile time.\n",
    "You don't declare the type of a variable.\n",
    "A variable can be reassigned to hold values of different data types during its lifetime\n",
    "\n",
    "**Static Binding**\n",
    "\n",
    "The binding happens during the compilation phase. The compiler generates code that directly points to the specific method or variable.\n",
    "\n",
    "The decision is made based on the data type that the variable or reference was explicitly declared as, not necessarily the actual type of the object it might hold at runtime."
   ]
  },
  {
   "cell_type": "code",
   "execution_count": null,
   "id": "a36b3e86",
   "metadata": {},
   "outputs": [
    {
     "name": "stdout",
     "output_type": "stream",
     "text": [
      "5 <class 'int'>\n",
      "yamini <class 'str'>\n"
     ]
    }
   ],
   "source": [
    "# Dynamic Binding - can hold any type of data in same variable at diff stages\n",
    "a= 5\n",
    "print(a,type(a))\n",
    "a= \"yamini\"\n",
    "print(a,type(a))"
   ]
  },
  {
   "cell_type": "code",
   "execution_count": 9,
   "id": "d1dcae63",
   "metadata": {},
   "outputs": [
    {
     "name": "stdout",
     "output_type": "stream",
     "text": [
      "1 3 5\n",
      "6 6 6\n"
     ]
    }
   ],
   "source": [
    "a,b,c = 1,3,5\n",
    "print(a,b,c)\n",
    "\n",
    "x=y=z= 6\n",
    "print(x,y,z)"
   ]
  },
  {
   "cell_type": "markdown",
   "id": "5e944a87",
   "metadata": {},
   "source": [
    "### **Identifier**\n",
    "\n",
    "An **identifier** is a **name** that you use to uniquely identify **any entity** in a program. It's like a label you put on something so you can refer to it later.\n",
    "\n",
    "**Key Characteristics of Identifiers:**\n",
    "\n",
    "* They must follow specific naming rules (e.g., cannot start with a digit, no special characters except underscore, case-sensitive).\n",
    "* They cannot be Python's **keywords** (reserved words).\n",
    "* An identifier is just the *name itself*. It doesn't inherently imply what the named entity *is* or *does*, only what it's *called*.\n",
    "\n",
    "### **Variable**\n",
    "\n",
    "A **variable** is a **specific type of entity** that an identifier can name. Specifically, a variable is a **named storage location in memory that holds a value (data)**. It's a container for data.\n",
    "\n",
    "**Key Characteristics of Variables:**\n",
    "\n",
    "* **They always have an identifier (a name).** Without a name, you can't refer to the storage location.\n",
    "* **They hold a value.** This is their primary purpose.\n",
    "* **They have a type** (inferred dynamically in Python) based on the value they currently hold.\n",
    "* **Their value can change** (they are \"variable\").\n",
    "\n",
    "**Example:**\n",
    "In the line `my_score = 100`:\n",
    "* `my_score` is the **identifier** (the name).\n",
    "* The entire construct `my_score = 100` defines `my_score` as a **variable** that currently holds the integer value `100`.\n",
    "\n",
    "In Python, when you say `x = 5`, `x` is the identifier you're using. Because you've assigned a value to it, `x` now *functions as a variable* that refers to the integer object `5`. If you later do `def my_func():`, `my_func` is an identifier, but it names a function, not a variable.\n",
    "\n",
    "Let's break down Keywords and Identifiers in Python. These are fundamental concepts that govern how you name things in your code.\n",
    "\n",
    "-----\n",
    "\n",
    "## 1\\. Keywords (Reserved Words)\n",
    "\n",
    "**Keywords** (also known as **reserved words**) are special words in Python that have a **predefined meaning and specific functionality** for the interpreter. They are part of Python's syntax and structure, and you **cannot use them as names for your variables, functions, classes, or any other identifiers.**\n",
    "\n",
    "Think of them as words that Python has \"reserved\" exclusively for its own internal operations and grammar.\n",
    "\n",
    "**Key Characteristics:**\n",
    "\n",
    "  * **Fixed Meaning:** Each keyword performs a specific action or represents a fundamental concept (e.g., `if` for conditional statements, `for` for loops, `def` for defining functions).\n",
    "  * **Case-Sensitive:** All Python keywords are in lowercase, except for `True`, `False`, and `None`.\n",
    "  * **Limited Number:** There's a fixed, relatively small set of keywords. This set can change slightly with new Python versions, but it remains manageable.\n",
    "  * **Cannot be Used as Identifiers:** This is the most crucial rule: you cannot name your variables, functions, classes, modules, etc., with any of Python's keywords.\n",
    "\n",
    " "
   ]
  },
  {
   "cell_type": "code",
   "execution_count": null,
   "id": "088ef276",
   "metadata": {},
   "outputs": [
    {
     "data": {
      "text/plain": [
       "'hey'"
      ]
     },
     "execution_count": 11,
     "metadata": {},
     "output_type": "execute_result"
    }
   ],
   "source": [
    "input() # you are presented with a box to enter your input"
   ]
  },
  {
   "cell_type": "code",
   "execution_count": null,
   "id": "cc643346",
   "metadata": {},
   "outputs": [
    {
     "name": "stdout",
     "output_type": "stream",
     "text": [
      "priya\n"
     ]
    }
   ],
   "source": [
    "# Static input - Input that is fixed or predetermined before the program runs.\n",
    "a= 300\n",
    "\n",
    "#Dynamic Input - Input that is provided while the program is running (interactive, real-time)\n",
    "b = input(\"what is your name\") #input block may appear on search bar of vs code look up!!\n",
    "print(b)"
   ]
  },
  {
   "cell_type": "code",
   "execution_count": 21,
   "metadata": {},
   "outputs": [
    {
     "name": "stdout",
     "output_type": "stream",
     "text": [
      "13.2\n",
      "5.0 <class 'str'>\n"
     ]
    }
   ],
   "source": [
    "#Implicit Type conversion\n",
    "print(5 + 8.2)\n",
    "#Explicit Type conversion\n",
    "a= (input())\n",
    "b=float(input())\n",
    "print(int(a)+b, type(a))"
   ]
  },
  {
   "cell_type": "code",
   "execution_count": null,
   "id": "57cf598c",
   "metadata": {},
   "outputs": [
    {
     "name": "stdout",
     "output_type": "stream",
     "text": [
      "0.0 3.14\n"
     ]
    }
   ],
   "source": [
    "# Literals\n",
    "a = 0b1010 # binary literal\n",
    "b = 100 #decimal\n",
    "c = 0o310 #octal literal\n",
    "d = 0x12c #hexadecimal\n",
    "\n",
    "# float literls\n",
    "f1 = 10.5\n",
    "f2 = 1.5e2 #1.5 * 10^2\n",
    "f3 = 1.5e-3 # 1.5 * 10^-3\n",
    "\n",
    " #complex liter\n",
    "x= 3.14j\n",
    "print(x.real,x.imag)\n"
   ]
  },
  {
   "cell_type": "code",
   "execution_count": 29,
   "id": "7d0901cc",
   "metadata": {},
   "outputs": [
    {
     "name": "stdout",
     "output_type": "stream",
     "text": [
      "None, 7, 6\n"
     ]
    }
   ],
   "source": [
    "a = None # use none literal if u dont have the value of a variable\n",
    "b= True + 6\n",
    "c= False + 6\n",
    "print(a,b,c,sep=\", \")"
   ]
  }
 ],
 "metadata": {
  "kernelspec": {
   "display_name": "Python 3",
   "language": "python",
   "name": "python3"
  },
  "language_info": {
   "codemirror_mode": {
    "name": "ipython",
    "version": 3
   },
   "file_extension": ".py",
   "mimetype": "text/x-python",
   "name": "python",
   "nbconvert_exporter": "python",
   "pygments_lexer": "ipython3",
   "version": "3.12.1"
  }
 },
 "nbformat": 4,
 "nbformat_minor": 5
}
