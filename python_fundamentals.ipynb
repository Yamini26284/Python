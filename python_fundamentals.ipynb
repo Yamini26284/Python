{
 "cells": [
  {
   "cell_type": "markdown",
   "id": "39280843",
   "metadata": {},
   "source": [
    "\n",
    "**syntax for print() is:**\n",
    "\n",
    "    print(*objects, sep=' ', end='\\n', file=sys.stdout, flush=False)\n",
    "\n",
    "1. objects: These are the items you want to print (can be multiple, separated by commas).\n",
    "\n",
    "2. sep=' ': (As we discussed earlier) This defines what separates the *objects. Default is a single space.\n",
    "\n",
    "3.end='\\n': This is the one we're focusing on. Its default value is '\\n', the newline character\n",
    "\n",
    "4. file=sys.stdout (Where the Output Goes)\n",
    "What it is: The file parameter specifies where the print() function's output should be sent.\n",
    "\n",
    "5. flush=False (Controlling When Output Appears)\n",
    "What it is: flush controls whether the output buffer is forced to be \"flushed\" immediately after print() executes.\n",
    "\n",
    "Default value: By default, flush is set to False. This means Python's output operations are usually buffered.\n",
    "\n",
    "Buffering means that Python collects a certain amount of output (or waits for a newline, or waits for the program to end) before actually sending it to the destination (like the console or a file). This is done for efficiency, as writing small chunks of data frequently can be slower.\n"
   ]
  },
  {
   "cell_type": "markdown",
   "id": "fddc7f2e",
   "metadata": {},
   "source": [
    "**The print() Function and Its Default end Behavior**\n",
    "\n",
    "When you use the print() function in Python, its primary job is to display information to your console or terminal. By default, after print() has displayed all the arguments you gave it, it automatically adds a newline character (\\n) at the very end.\n",
    "\n",
    "This means that after each print() statement finishes, the cursor in your terminal moves to the beginning of the next line, ready for the next output.\n",
    "\n",
    "The end parameter is one of the optional keyword arguments you can pass to the print() function. It allows you to specify what character(s) should be printed after all the other arguments have been displayed."
   ]
  },
  {
   "cell_type": "code",
   "execution_count": 11,
   "id": "0a863b18",
   "metadata": {},
   "outputs": [
    {
     "name": "stdout",
     "output_type": "stream",
     "text": [
      "Hey there!\n",
      "7\n",
      "8.9\n",
      "True\n"
     ]
    }
   ],
   "source": [
    "print(\"Hey there!\")\n",
    "print(7)\n",
    "print(8.9)\n",
    "print(True)\n",
    "# the idea is that, all the data types can be printed by giving them as an input to print function.\n",
    "# text wrapped in a inverted comma, is a sign to python that the given input to the print function is a string\n",
    " \n"
   ]
  },
  {
   "cell_type": "code",
   "execution_count": 16,
   "id": "26b2030f",
   "metadata": {},
   "outputs": [
    {
     "name": "stdout",
     "output_type": "stream",
     "text": [
      "Counting down...\n",
      "3.2.1.Go!\n"
     ]
    }
   ],
   "source": [
    "#If you want subsequent print() calls to continue on the same line, you can set end to an empty string:\n",
    "print(\"Counting down...\")\n",
    "print(3, end='.') \n",
    "print(2, end='.') \n",
    "print(1, end='.') \n",
    "print(\"Go!\")  "
   ]
  },
  {
   "cell_type": "code",
   "execution_count": 18,
   "id": "1e8f569b",
   "metadata": {},
   "outputs": [
    {
     "name": "stdout",
     "output_type": "stream",
     "text": [
      "hello! Dr\n"
     ]
    }
   ],
   "source": [
    "print(\"hello\",end=\"! \")\n",
    "print(\"Dr\")"
   ]
  },
  {
   "cell_type": "markdown",
   "id": "9b95edaa",
   "metadata": {},
   "source": [
    "**Print function with Multiple arguments**\n",
    "\n",
    "By default, when you use the print() function in Python with multiple arguments separated by commas, it will insert a single space between each of those arguments in the output.\n",
    "\n",
    "This behavior is controlled by the sep (separator) parameter of the print() function. By default, sep is set to a single space character (' ').\n"
   ]
  },
  {
   "cell_type": "code",
   "execution_count": 15,
   "id": "659d75f9",
   "metadata": {},
   "outputs": [
    {
     "name": "stdout",
     "output_type": "stream",
     "text": [
      "hello 8 23.897 True\n",
      "2025-07-13\n",
      "apple, banana, cherry\n"
     ]
    }
   ],
   "source": [
    "print(\"hello\",8,23.897,True)\n",
    "print(\"2025\", \"07\", \"13\", sep=\"-\")\n",
    "print(\"apple\",\"banana\", \"cherry\", sep=\", \")"
   ]
  },
  {
   "cell_type": "markdown",
   "id": "5c664e29",
   "metadata": {},
   "source": [
    "### Data Types"
   ]
  },
  {
   "cell_type": "code",
   "execution_count": 37,
   "id": "6fb9e105",
   "metadata": {},
   "outputs": [
    {
     "name": "stdout",
     "output_type": "stream",
     "text": [
      "8\n",
      "inf 1e+308\n",
      "<class 'float'>\n",
      "<class 'float'>\n"
     ]
    }
   ],
   "source": [
    "# Integers\n",
    "# Python by default handles integer data types\n",
    "print(8)\n",
    "# floating-point number in scientific notation.\n",
    "a = (1e309) # Python can't handle this so outputs infinite\n",
    "b= (1e308) # 1 * 10 ^308 - python can hundle this number of integers\n",
    "print(a,b)\n",
    "print(type(a))\n",
    "print(type(b))"
   ]
  },
  {
   "cell_type": "code",
   "execution_count": 38,
   "id": "543c3fcc",
   "metadata": {},
   "outputs": [
    {
     "name": "stdout",
     "output_type": "stream",
     "text": [
      "8.56\n",
      "1e+208\n"
     ]
    }
   ],
   "source": [
    "# Float/Decimals\n",
    "print(8.56)\n",
    "print(1e208)\n"
   ]
  },
  {
   "cell_type": "code",
   "execution_count": 39,
   "id": "7179c7eb",
   "metadata": {},
   "outputs": [
    {
     "name": "stdout",
     "output_type": "stream",
     "text": [
      "True\n",
      "False\n"
     ]
    }
   ],
   "source": [
    "#Boolean - not wrapped in inverted commas\n",
    "print(True)\n",
    "print(False)"
   ]
  },
  {
   "cell_type": "markdown",
   "id": "b25d1df0",
   "metadata": {},
   "source": [
    "In Python, a single character is simply treated as a string of length one, There is no char data type in Python\n",
    "\n",
    "What does this mean in practice?\n",
    "No char keyword: You won't find a char keyword to declare a single character variable.\n",
    "\n",
    "Strings are the foundation: All textual data, whether it's a single letter, a word, a sentence, or an entire book, is represented by the str (string) data type.\n",
    "\n",
    "Length is the differentiator: The only difference between a \"character\" and a \"string\" in Python is the number of characters it contains."
   ]
  },
  {
   "cell_type": "code",
   "execution_count": null,
   "id": "ad6aa575",
   "metadata": {},
   "outputs": [],
   "source": [
    "# Strings "
   ]
  }
 ],
 "metadata": {
  "kernelspec": {
   "display_name": "Python 3",
   "language": "python",
   "name": "python3"
  },
  "language_info": {
   "codemirror_mode": {
    "name": "ipython",
    "version": 3
   },
   "file_extension": ".py",
   "mimetype": "text/x-python",
   "name": "python",
   "nbconvert_exporter": "python",
   "pygments_lexer": "ipython3",
   "version": "3.12.1"
  }
 },
 "nbformat": 4,
 "nbformat_minor": 5
}
